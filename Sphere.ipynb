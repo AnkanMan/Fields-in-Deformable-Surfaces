{
 "cells": [
  {
   "cell_type": "markdown",
   "metadata": {},
   "source": [
    "# Diffusion equation on a sphere\n",
    "\n",
    "We solve\n",
    "$$\n",
    "\\partial_t c = D \\nabla^2 c\n",
    "$$\n",
    "on a unit sphere $S^2$. Use spherical polar coodinates $0 \\leq \\theta \\leq \\pi$ and $0 \\leq \\phi < 2\\pi$. With the initial condition \n",
    "$$\n",
    "c(\\theta, \\phi, t=0) = \\sum_{l=0}^{\\infty} \\sum_{m=-l}^{l} c_{lm} \\; Y_{lm}(\\theta, \\phi),\n",
    "$$\n",
    "where $Y_{lm}(\\theta, \\phi)$ are the scalar spherical harmonics and $c_{lm}$ are the expansion coefficients, the exact solution is\n",
    "$$\n",
    "c(\\theta, \\phi, t) = \\sum_{l=0}^{\\infty} \\sum_{m=-l}^{l} c_{lm} \\; e^{-D \\, l \\, (l+1) \\, t} \\; Y_{lm}(\\theta, \\phi).\n",
    "$$\n"
   ]
  },
  {
   "cell_type": "code",
   "execution_count": 135,
   "metadata": {},
   "outputs": [],
   "source": [
    "from mpi4py import MPI\n",
    "import dolfinx as dfx\n",
    "import basix, ufl\n",
    "from dolfinx.fem.petsc import NonlinearProblem\n",
    "from dolfinx.nls.petsc import NewtonSolver\n",
    "import numpy as np\n",
    "import vtk\n",
    "import pyvista as pv\n",
    "pv.set_jupyter_backend('trame')"
   ]
  },
  {
   "cell_type": "code",
   "execution_count": 136,
   "metadata": {},
   "outputs": [],
   "source": [
    "# diffusion constant\n",
    "D,A = 0.1,0\n",
    "# time extent\n",
    "T, dt = 10, 1e-2\n",
    "# timepoints\n",
    "nt = int(T/dt) + 1\n",
    "times = np.linspace(0, T, nt)\n",
    "c_0,m,l = 2,0,1"
   ]
  },
  {
   "cell_type": "code",
   "execution_count": 137,
   "metadata": {},
   "outputs": [],
   "source": [
    "# mesh\n",
    "meshfile ='sphere.xdmf'\n",
    "with dfx.io.XDMFFile(MPI.COMM_WORLD, meshfile, \"r\") as xdmf:\n",
    "    domain = xdmf.read_mesh(name=\"Grid\")\n",
    "\n",
    "# geometrical and topological dimension\n",
    "gdim, tdim = domain.geometry.dim, domain.topology.dim\n",
    "x = domain.geometry.x[:,0]\n"
   ]
  },
  {
   "cell_type": "code",
   "execution_count": 138,
   "metadata": {},
   "outputs": [
    {
     "name": "stdout",
     "output_type": "stream",
     "text": [
      "3 2\n"
     ]
    }
   ],
   "source": [
    "print(gdim,tdim)"
   ]
  },
  {
   "cell_type": "code",
   "execution_count": 139,
   "metadata": {},
   "outputs": [
    {
     "name": "stdout",
     "output_type": "stream",
     "text": [
      "Basix element (P, triangle, 1, gll_warped, unset, False, float64, []) blocked element (Basix element (P, triangle, 1, gll_warped, unset, False, float64, []), (3,))\n"
     ]
    }
   ],
   "source": [
    "# scalar and vector elements\n",
    "scalar_element = basix.ufl.element(\"P\", domain.basix_cell(), 1)\n",
    "vector_element = basix.ufl.element(\"P\", domain.basix_cell(), 1, shape=(gdim,))\n",
    "print(scalar_element,vector_element)"
   ]
  },
  {
   "cell_type": "code",
   "execution_count": 140,
   "metadata": {},
   "outputs": [
    {
     "name": "stdout",
     "output_type": "stream",
     "text": [
      "FunctionSpace(<Mesh #6>, Basix element (P, triangle, 1, gll_warped, unset, False, float64, [])) FunctionSpace(<Mesh #6>, blocked element (Basix element (P, triangle, 1, gll_warped, unset, False, float64, []), (3,)))\n"
     ]
    }
   ],
   "source": [
    "# scalar and vector function spaces\n",
    "SFS = dfx.fem.functionspace(domain, scalar_element)\n",
    "VFS = dfx.fem.functionspace(domain, vector_element)\n",
    "print(SFS,VFS)"
   ]
  },
  {
   "cell_type": "code",
   "execution_count": 141,
   "metadata": {},
   "outputs": [],
   "source": [
    "# functions at t, td-t, and test-function\n",
    "u0 = dfx.fem.Function(SFS)\n",
    "u = dfx.fem.Function(SFS)\n",
    "tu = ufl.TestFunction(SFS)\n",
    "#We have defined test and trial function \n",
    "#So every pt on sphere has some assotiated scalar value\n",
    "u_exact = dfx.fem.Function(SFS)"
   ]
  },
  {
   "cell_type": "markdown",
   "metadata": {},
   "source": [
    "At t=0, the initial c is given by,\n",
    "$$\n",
    "c(\\theta, \\phi, t=0) = \\sum_{l=0}^{\\infty} \\sum_{m=-l}^{l} c_{lm} \\; Y_{lm}(\\theta, \\phi),\n",
    "$$\n",
    "For l=1,m=0,\n",
    "$$\n",
    "c(\\theta, \\phi, t=0) =  c_{10} \\; Y_{10}(\\theta, \\phi) = c_{10} \\sqrt{\\frac{3}{4\\pi}} \\cos{\\theta},\n",
    "$$"
   ]
  },
  {
   "cell_type": "code",
   "execution_count": 142,
   "metadata": {},
   "outputs": [],
   "source": [
    "# initial condition\n",
    "r = lambda x : np.sqrt(x[0]**2 + x[1]**2+x[2]**2)\n",
    "r_x = lambda x : np.sqrt(x[0]**2 + x[1]**2)\n",
    "theta = lambda x: np.pi/2+np.arctan(x[1],x[0])\n",
    "phi = lambda x: np.arctan2(r_x(x),x[2])\n",
    "#def Qfun(x,theta):\n",
    "#    return (np.sqrt(3/(4*np.pi))*np.cos(theta(x)))\n",
    "#u0.interpolate(lambda x: c_0*Qfun(x,theta))\n",
    "\n"
   ]
  },
  {
   "cell_type": "markdown",
   "metadata": {},
   "source": [
    "The exact solution is given by,\n",
    "$$\n",
    "c(\\theta, \\phi, t) = \\sum_{l=0}^{\\infty} \\sum_{m=-l}^{l} c_{lm} \\; e^{-D \\, l \\, (l+1) \\, t} \\; Y_{lm}(\\theta, \\phi).\n",
    "$$"
   ]
  },
  {
   "cell_type": "code",
   "execution_count": 143,
   "metadata": {},
   "outputs": [],
   "source": [
    "\n",
    "def Q_ex(x,theta,t):\n",
    "    return c_0*(np.sqrt(3/(4*np.pi))*np.cos(theta(x)))*np.exp(-D*l*(l+1)*t)\n",
    "u_exact.interpolate(lambda x,t=0: Q_ex(x,theta,t))\n",
    "u0.interpolate(lambda x,t=0: Q_ex(x,theta,t))\n",
    "#print(u0.x.array)"
   ]
  },
  {
   "cell_type": "code",
   "execution_count": 144,
   "metadata": {},
   "outputs": [
    {
     "name": "stdout",
     "output_type": "stream",
     "text": [
      "f\n",
      "I + ({ A | A_{i_{50}, i_{51}} = -1 * ((f) (X) (f))[i_{50}, i_{51}] })\n"
     ]
    }
   ],
   "source": [
    "# unit normal & tangential projector\n",
    "\n",
    "normal = dfx.fem.Function(VFS)\n",
    "normal.interpolate(lambda x: x/r(x))\n",
    "projector = ufl.Identity(gdim) - ufl.outer(normal, normal)\n",
    "\n",
    "print(normal)\n",
    "print(projector)"
   ]
  },
  {
   "cell_type": "code",
   "execution_count": 145,
   "metadata": {},
   "outputs": [],
   "source": [
    "# weak-form\n",
    "form = (ufl.dot((u-u0)/dt, tu) \n",
    "        + D * ufl.inner(projector * ufl.grad(u), projector * ufl.grad(tu)))*ufl.dx"
   ]
  },
  {
   "cell_type": "code",
   "execution_count": 146,
   "metadata": {},
   "outputs": [],
   "source": [
    "# setup problem and solver\n",
    "problem = NonlinearProblem(form, u, bcs=[])\n",
    "solver = NewtonSolver(MPI.COMM_WORLD, problem)"
   ]
  },
  {
   "cell_type": "code",
   "execution_count": 147,
   "metadata": {},
   "outputs": [
    {
     "name": "stdout",
     "output_type": "stream",
     "text": [
      "[[-0.45004626 -0.48143524 -0.52781176 ...  0.49519533  0.39487806\n",
      "   0.44993867]\n",
      " [ 0.          0.          0.         ...  0.          0.\n",
      "   0.        ]\n",
      " [ 0.          0.          0.         ...  0.          0.\n",
      "   0.        ]\n",
      " ...\n",
      " [ 0.          0.          0.         ...  0.          0.\n",
      "   0.        ]\n",
      " [ 0.          0.          0.         ...  0.          0.\n",
      "   0.        ]\n",
      " [ 0.          0.          0.         ...  0.          0.\n",
      "   0.        ]]\n",
      "[[-0.45004626 -0.48143524 -0.52781176 ...  0.49519533  0.39487806\n",
      "   0.44993867]\n",
      " [ 0.          0.          0.         ...  0.          0.\n",
      "   0.        ]\n",
      " [ 0.          0.          0.         ...  0.          0.\n",
      "   0.        ]\n",
      " ...\n",
      " [ 0.          0.          0.         ...  0.          0.\n",
      "   0.        ]\n",
      " [ 0.          0.          0.         ...  0.          0.\n",
      "   0.        ]\n",
      " [ 0.          0.          0.         ...  0.          0.\n",
      "   0.        ]]\n"
     ]
    }
   ],
   "source": [
    "#Setting up an array to store the scalar function over the domain for each time step\n",
    "uarray = np.zeros((nt, len(u.x.array)))\n",
    "u_ex_array = np.zeros((nt, len(u.x.array)))\n",
    "#print(uarray)\n",
    "uarray[0] = u0.x.array\n",
    "u_ex_array[0] = u_exact.x.array\n",
    "print(uarray)\n",
    "print(u_ex_array)\n",
    "#gradu_array = np.zeros(nt, len(vel.x.array))\n",
    "#print(gradu_array)"
   ]
  },
  {
   "cell_type": "code",
   "execution_count": 148,
   "metadata": {},
   "outputs": [
    {
     "name": "stdout",
     "output_type": "stream",
     "text": [
      "[[-0.45004626 -0.48143524 -0.52781176 ...  0.49519533  0.39487806\n",
      "   0.44993867]\n",
      " [-0.44872058 -0.48014041 -0.52659489 ...  0.49391956  0.3935454\n",
      "   0.44861318]\n",
      " [-0.4474001  -0.47884918 -0.52537867 ...  0.4926456   0.39222169\n",
      "   0.44729287]\n",
      " ...\n",
      " [-0.05466247 -0.05964461 -0.06761388 ...  0.06192618  0.04654392\n",
      "   0.05464664]\n",
      " [-0.05455285 -0.05952499 -0.06747828 ...  0.06180199  0.04645058\n",
      "   0.05453705]\n",
      " [-0.05444344 -0.05940561 -0.06734295 ...  0.06167805  0.04635742\n",
      "   0.05442767]]\n"
     ]
    }
   ],
   "source": [
    "# time-evolution\n",
    "err_array = np.zeros( nt)\n",
    "L2_error = dfx.fem.form(ufl.inner( u0 - u_exact, u0- u_exact) * ufl.dx)\n",
    "error_local = dfx.fem.assemble_scalar(L2_error)\n",
    "error_L2 = np.sqrt(domain.comm.allreduce(error_local, op=MPI.SUM))\n",
    "err_array[0] = error_L2 \n",
    "for tt in range(1, nt):\n",
    "    solver.solve(u)\n",
    "    u0.x.array[:] = u.x.array\n",
    "    uarray[tt] = u0.x.array\n",
    "    u_exact.interpolate(lambda x,t=tt*dt: Q_ex(x,theta,t))\n",
    "    u_ex_array[tt] = u_exact.x.array\n",
    "    L2_error = dfx.fem.form(ufl.inner( u - u_exact, u- u_exact) * ufl.dx)\n",
    "    error_local = dfx.fem.assemble_scalar(L2_error)\n",
    "    error_L2 = np.sqrt(domain.comm.allreduce(error_local, op=MPI.SUM))\n",
    "    err_array[tt]=error_L2\n",
    "    \n",
    "print(uarray)\n",
    "# So uarray has all the values of all the points on a sphere at each timestep"
   ]
  },
  {
   "cell_type": "code",
   "execution_count": 149,
   "metadata": {},
   "outputs": [
    {
     "name": "stdout",
     "output_type": "stream",
     "text": [
      "UnstructuredGrid (0x74ebe4091a20)\n",
      "  N Cells:    1280\n",
      "  N Points:   642\n",
      "  X Bounds:   -9.998e-01, 9.999e-01\n",
      "  Y Bounds:   -1.000e+00, 1.000e+00\n",
      "  Z Bounds:   -1.000e+00, 1.000e+00\n",
      "  N Arrays:   0\n",
      "UnstructuredGrid (0x74ebe40926e0)\n",
      "  N Cells:    1280\n",
      "  N Points:   642\n",
      "  X Bounds:   -9.998e-01, 9.999e-01\n",
      "  Y Bounds:   -1.000e+00, 1.000e+00\n",
      "  Z Bounds:   -1.000e+00, 1.000e+00\n",
      "  N Arrays:   0\n"
     ]
    }
   ],
   "source": [
    "topology, cell_types, positions = dfx.plot.vtk_mesh(VFS)\n",
    "vgrid = pv.UnstructuredGrid(topology, cell_types, positions)\n",
    "print(vgrid)\n",
    "topology, cell_types, positions = dfx.plot.vtk_mesh(SFS)\n",
    "sgrid = pv.UnstructuredGrid(topology, cell_types, positions)\n",
    "print(sgrid)\n"
   ]
  },
  {
   "cell_type": "code",
   "execution_count": 150,
   "metadata": {},
   "outputs": [
    {
     "data": {
      "application/vnd.jupyter.widget-view+json": {
       "model_id": "732b27b6409b41efb71b6f31512c4114",
       "version_major": 2,
       "version_minor": 0
      },
      "text/plain": [
       "Widget(value='<iframe src=\"http://localhost:44033/index.html?ui=P_0x74ebb8d17610_25&reconnect=auto\" class=\"pyv…"
      ]
     },
     "metadata": {},
     "output_type": "display_data"
    }
   ],
   "source": [
    "topology, cell_types, positions = dfx.plot.vtk_mesh(VFS)\n",
    "#vgrid = pv.UnstructuredGrid(topology, cell_types, positions)\n",
    "\n",
    "topology, cell_types, positions = dfx.plot.vtk_mesh(SFS)\n",
    "sgrid = pv.UnstructuredGrid(topology, cell_types, positions)\n",
    "\n",
    "umin, umax = u_ex_array.min(), u_ex_array.max()\n",
    "cmap, n_colors = 'coolwarm', 11\n",
    "vector_scale, vector_color = 0.1, 'black'\n",
    "\n",
    "pl = pv.Plotter()\n",
    "\n",
    "#plot scalars\n",
    "scalar_bar_args={'title':r'u', 'n_labels':3,\n",
    "                'fmt':'%3.1f', 'vertical':True, \n",
    "                'height':0.5, 'width':0.05}\n",
    "sgrid.point_data['u'] = uarray[0]\n",
    "smesh = pl.add_mesh(sgrid, cmap=cmap, show_scalar_bar=True, n_colors=n_colors,\n",
    "                 smooth_shading=True, clim=(umin, umax), \n",
    "                 scalar_bar_args=scalar_bar_args, name='u')\n",
    "# plot vectors\n",
    "\n",
    "def update(idx):\n",
    "    global smesh\n",
    "    global vmesh\n",
    "    pl.remove_actor(smesh)\n",
    "    \n",
    "    sgrid.point_data['u'] = uarray[idx]\n",
    "    \n",
    "    smesh = pl.add_mesh(sgrid, cmap=cmap, show_scalar_bar=True, n_colors=n_colors,\n",
    "                     smooth_shading=True, clim=(umin, umax), \n",
    "                     scalar_bar_args=scalar_bar_args, name='u')\n",
    "    \n",
    "\n",
    "\n",
    "def slider_update(value):\n",
    "    idx = (abs(times-value)).argmin()\n",
    "    update(idx)\n",
    "    return\n",
    "\n",
    "slider = pl.add_slider_widget(slider_update, \n",
    "                                rng=[times.min(), times.max()], value=times.min(), \n",
    "                                title=r'αt', style='modern',\n",
    "                                interaction_event='always',\n",
    "                                pointa=(0.35, 0.1), pointb=(0.75, 0.1), \n",
    "                                slider_width=0.03, tube_width=0.03,\n",
    "                                fmt='%3.1f')\n",
    "\n",
    "pl.show()"
   ]
  },
  {
   "cell_type": "code",
   "execution_count": 151,
   "metadata": {},
   "outputs": [
    {
     "data": {
      "text/plain": [
       "Text(0.5, 0, 'time')"
      ]
     },
     "execution_count": 151,
     "metadata": {},
     "output_type": "execute_result"
    },
    {
     "data": {
      "image/png": "[encoded data removed]",
      "text/plain": [
       "<Figure size 640x480 with 1 Axes>"
      ]
     },
     "metadata": {},
     "output_type": "display_data"
    }
   ],
   "source": [
    "import matplotlib.pyplot as plt\n",
    "plt.plot(times, err_array)\n",
    "plt.legend()\n",
    "plt.title(\"Error vs time \")\n",
    "plt.ylabel(\"Error\")\n",
    "plt.xlabel(\"time\")"
   ]
  },
  {
   "cell_type": "code",
   "execution_count": 152,
   "metadata": {},
   "outputs": [
    {
     "data": {
      "application/vnd.jupyter.widget-view+json": {
       "model_id": "46905df402ca4c3e82afad53050b6b43",
       "version_major": 2,
       "version_minor": 0
      },
      "text/plain": [
       "Widget(value='<iframe src=\"http://localhost:44033/index.html?ui=P_0x74ebb8dc9790_26&reconnect=auto\" class=\"pyv…"
      ]
     },
     "metadata": {},
     "output_type": "display_data"
    }
   ],
   "source": [
    "topology, cell_types, positions = dfx.plot.vtk_mesh(VFS)\n",
    "#vgrid = pv.UnstructuredGrid(topology, cell_types, positions)\n",
    "\n",
    "topology, cell_types, positions = dfx.plot.vtk_mesh(SFS)\n",
    "sgrid1 = pv.UnstructuredGrid(topology, cell_types, positions)\n",
    "\n",
    "umin, umax = u_ex_array.min(), u_ex_array.max()\n",
    "cmap, n_colors = 'coolwarm', 11\n",
    "vector_scale, vector_color = 0.1, 'black'\n",
    "\n",
    "pl = pv.Plotter()\n",
    "\n",
    "#plot scalars\n",
    "scalar_bar_args={'title':r'u', 'n_labels':3,\n",
    "                'fmt':'%3.1f', 'vertical':True, \n",
    "                'height':0.5, 'width':0.05}\n",
    "sgrid1.point_data['u'] = u_ex_array[0]\n",
    "smesh1 = pl.add_mesh(sgrid1, cmap=cmap, show_scalar_bar=True, n_colors=n_colors,\n",
    "                 smooth_shading=True, clim=(umin, umax), \n",
    "                 scalar_bar_args=scalar_bar_args, name='u')\n",
    "# plot vectors\n",
    "\n",
    "def update(idx):\n",
    "    global smesh1\n",
    "    \n",
    "    pl.remove_actor(smesh1)\n",
    "    \n",
    "    sgrid1.point_data['u'] = u_ex_array[idx]\n",
    "    \n",
    "    smesh1 = pl.add_mesh(sgrid1, cmap=cmap, show_scalar_bar=True, n_colors=n_colors,\n",
    "                     smooth_shading=True, clim=(umin, umax), \n",
    "                     scalar_bar_args=scalar_bar_args, name='u')\n",
    "    \n",
    "\n",
    "\n",
    "def slider_update(value):\n",
    "    idx = (abs(times-value)).argmin()\n",
    "    update(idx)\n",
    "    return\n",
    "\n",
    "slider = pl.add_slider_widget(slider_update, \n",
    "                                rng=[times.min(), times.max()], value=times.min(), \n",
    "                                title=r'αt', style='modern',\n",
    "                                interaction_event='always',\n",
    "                                pointa=(0.35, 0.1), pointb=(0.75, 0.1), \n",
    "                                slider_width=0.03, tube_width=0.03,\n",
    "                                fmt='%3.1f')\n",
    "\n",
    "pl.show()"
   ]
  },
  {
   "cell_type": "code",
   "execution_count": 153,
   "metadata": {},
   "outputs": [
    {
     "name": "stdout",
     "output_type": "stream",
     "text": [
      "[[-0.45004626 -0.48143524 -0.52781176 ...  0.49519533  0.39487806\n",
      "   0.44993867]\n",
      " [-0.44914707 -0.48047333 -0.52675719 ...  0.49420593  0.39408909\n",
      "   0.44903969]\n",
      " [-0.44824968 -0.47951334 -0.52570473 ...  0.49321851  0.3933017\n",
      "   0.44814251]\n",
      " ...\n",
      " [-0.06115126 -0.06541632 -0.07171785 ...  0.06728601  0.05365513\n",
      "   0.06113664]\n",
      " [-0.06102907 -0.06528561 -0.07157456 ...  0.06715157  0.05354792\n",
      "   0.06101448]\n",
      " [-0.06090714 -0.06515517 -0.07143155 ...  0.0670174   0.05344093\n",
      "   0.06089258]]\n"
     ]
    }
   ],
   "source": [
    "print(u_ex_array)"
   ]
  },
  {
   "cell_type": "code",
   "execution_count": null,
   "metadata": {},
   "outputs": [],
   "source": []
  }
 ],
 "metadata": {
  "kernelspec": {
   "display_name": "fenicx",
   "language": "python",
   "name": "python3"
  },
  "language_info": {
   "codemirror_mode": {
    "name": "ipython",
    "version": 3
   },
   "file_extension": ".py",
   "mimetype": "text/x-python",
   "name": "python",
   "nbconvert_exporter": "python",
   "pygments_lexer": "ipython3",
   "version": "3.11.11"
  }
 },
 "nbformat": 4,
 "nbformat_minor": 2
}
