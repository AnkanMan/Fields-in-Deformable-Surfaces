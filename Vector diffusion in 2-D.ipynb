{
 "cells": [
  {
   "cell_type": "markdown",
   "metadata": {},
   "source": [
    "# Diffusion of Vector field in 2-D plane\n",
    "\n",
    "The equation is given by,\n",
    "$$\n",
    "\\partial_t \\bar{V} = D \\nabla^2 \\bar{V}\n",
    "$$\n",
    "subjected to neumann boundary conditions.\n",
    "The solution to this Equation is given by,\n",
    "$$\n",
    "\\bar{V} = \\sum_{n_x,n_y} \\bar{V}_{0 (n_x,n_y)} cos(\\pi n_x x/L)cos(\\pi n_y y/L) e^{-\\frac{D \\pi^2 (n_{x}^{2}+n_{y}^{2})t}{L^2}}\n",
    "$$"
   ]
  },
  {
   "cell_type": "code",
   "execution_count": 1,
   "metadata": {},
   "outputs": [],
   "source": [
    "# important libraries\n",
    "from mpi4py import MPI\n",
    "import dolfinx as dfx\n",
    "import basix, ufl\n",
    "from dolfinx.fem.petsc import NonlinearProblem\n",
    "from dolfinx.nls.petsc import NewtonSolver\n",
    "from dolfinx import mesh\n",
    "import numpy as np\n",
    "import vtk\n",
    "import pyvista as pv\n",
    "from ufl import split\n",
    "pv.set_jupyter_backend('trame')"
   ]
  },
  {
   "cell_type": "code",
   "execution_count": 2,
   "metadata": {},
   "outputs": [],
   "source": [
    "dt=0.01\n",
    "T = 10\n",
    "nt = int(T/dt)\n",
    "times = np.linspace(0, T, nt)\n",
    "nx,ny = 16,16\n",
    "#Diffusion const\n",
    "D,n_x,n_y,vx,vy =0.01,2,1,1,1"
   ]
  },
  {
   "cell_type": "code",
   "execution_count": 3,
   "metadata": {},
   "outputs": [
    {
     "name": "stdout",
     "output_type": "stream",
     "text": [
      "[[0.9375 0.     0.    ]\n",
      " [1.     0.     0.    ]\n",
      " [1.     0.0625 0.    ]\n",
      " [0.9375 0.0625 0.    ]\n",
      " [0.875  0.     0.    ]\n",
      " [1.     0.125  0.    ]\n",
      " [0.875  0.0625 0.    ]\n",
      " [0.9375 0.125  0.    ]\n",
      " [0.8125 0.     0.    ]\n",
      " [1.     0.1875 0.    ]\n",
      " [0.8125 0.0625 0.    ]\n",
      " [0.875  0.125  0.    ]\n",
      " [0.9375 0.1875 0.    ]\n",
      " [0.75   0.     0.    ]\n",
      " [1.     0.25   0.    ]\n",
      " [0.75   0.0625 0.    ]\n",
      " [0.8125 0.125  0.    ]\n",
      " [0.875  0.1875 0.    ]\n",
      " [0.9375 0.25   0.    ]\n",
      " [0.6875 0.     0.    ]\n",
      " [1.     0.3125 0.    ]\n",
      " [0.6875 0.0625 0.    ]\n",
      " [0.75   0.125  0.    ]\n",
      " [0.8125 0.1875 0.    ]\n",
      " [0.875  0.25   0.    ]\n",
      " [0.9375 0.3125 0.    ]\n",
      " [0.625  0.     0.    ]\n",
      " [1.     0.375  0.    ]\n",
      " [0.625  0.0625 0.    ]\n",
      " [0.6875 0.125  0.    ]\n",
      " [0.75   0.1875 0.    ]\n",
      " [0.8125 0.25   0.    ]\n",
      " [0.875  0.3125 0.    ]\n",
      " [0.9375 0.375  0.    ]\n",
      " [0.5625 0.     0.    ]\n",
      " [1.     0.4375 0.    ]\n",
      " [0.5625 0.0625 0.    ]\n",
      " [0.625  0.125  0.    ]\n",
      " [0.6875 0.1875 0.    ]\n",
      " [0.75   0.25   0.    ]\n",
      " [0.8125 0.3125 0.    ]\n",
      " [0.875  0.375  0.    ]\n",
      " [0.9375 0.4375 0.    ]\n",
      " [0.5    0.     0.    ]\n",
      " [1.     0.5    0.    ]\n",
      " [0.5    0.0625 0.    ]\n",
      " [0.5625 0.125  0.    ]\n",
      " [0.625  0.1875 0.    ]\n",
      " [0.6875 0.25   0.    ]\n",
      " [0.75   0.3125 0.    ]\n",
      " [0.8125 0.375  0.    ]\n",
      " [0.875  0.4375 0.    ]\n",
      " [0.9375 0.5    0.    ]\n",
      " [0.4375 0.     0.    ]\n",
      " [1.     0.5625 0.    ]\n",
      " [0.4375 0.0625 0.    ]\n",
      " [0.5    0.125  0.    ]\n",
      " [0.5625 0.1875 0.    ]\n",
      " [0.625  0.25   0.    ]\n",
      " [0.6875 0.3125 0.    ]\n",
      " [0.75   0.375  0.    ]\n",
      " [0.8125 0.4375 0.    ]\n",
      " [0.875  0.5    0.    ]\n",
      " [0.9375 0.5625 0.    ]\n",
      " [0.375  0.     0.    ]\n",
      " [1.     0.625  0.    ]\n",
      " [0.375  0.0625 0.    ]\n",
      " [0.4375 0.125  0.    ]\n",
      " [0.5    0.1875 0.    ]\n",
      " [0.5625 0.25   0.    ]\n",
      " [0.625  0.3125 0.    ]\n",
      " [0.6875 0.375  0.    ]\n",
      " [0.75   0.4375 0.    ]\n",
      " [0.8125 0.5    0.    ]\n",
      " [0.875  0.5625 0.    ]\n",
      " [0.9375 0.625  0.    ]\n",
      " [0.3125 0.     0.    ]\n",
      " [1.     0.6875 0.    ]\n",
      " [0.3125 0.0625 0.    ]\n",
      " [0.375  0.125  0.    ]\n",
      " [0.4375 0.1875 0.    ]\n",
      " [0.5    0.25   0.    ]\n",
      " [0.5625 0.3125 0.    ]\n",
      " [0.625  0.375  0.    ]\n",
      " [0.6875 0.4375 0.    ]\n",
      " [0.75   0.5    0.    ]\n",
      " [0.8125 0.5625 0.    ]\n",
      " [0.875  0.625  0.    ]\n",
      " [0.9375 0.6875 0.    ]\n",
      " [0.25   0.     0.    ]\n",
      " [1.     0.75   0.    ]\n",
      " [0.25   0.0625 0.    ]\n",
      " [0.3125 0.125  0.    ]\n",
      " [0.375  0.1875 0.    ]\n",
      " [0.4375 0.25   0.    ]\n",
      " [0.5    0.3125 0.    ]\n",
      " [0.5625 0.375  0.    ]\n",
      " [0.625  0.4375 0.    ]\n",
      " [0.6875 0.5    0.    ]\n",
      " [0.75   0.5625 0.    ]\n",
      " [0.8125 0.625  0.    ]\n",
      " [0.875  0.6875 0.    ]\n",
      " [0.9375 0.75   0.    ]\n",
      " [0.1875 0.     0.    ]\n",
      " [1.     0.8125 0.    ]\n",
      " [0.1875 0.0625 0.    ]\n",
      " [0.25   0.125  0.    ]\n",
      " [0.3125 0.1875 0.    ]\n",
      " [0.375  0.25   0.    ]\n",
      " [0.4375 0.3125 0.    ]\n",
      " [0.5    0.375  0.    ]\n",
      " [0.5625 0.4375 0.    ]\n",
      " [0.625  0.5    0.    ]\n",
      " [0.6875 0.5625 0.    ]\n",
      " [0.75   0.625  0.    ]\n",
      " [0.8125 0.6875 0.    ]\n",
      " [0.875  0.75   0.    ]\n",
      " [0.9375 0.8125 0.    ]\n",
      " [0.125  0.     0.    ]\n",
      " [1.     0.875  0.    ]\n",
      " [0.125  0.0625 0.    ]\n",
      " [0.1875 0.125  0.    ]\n",
      " [0.25   0.1875 0.    ]\n",
      " [0.3125 0.25   0.    ]\n",
      " [0.375  0.3125 0.    ]\n",
      " [0.4375 0.375  0.    ]\n",
      " [0.5    0.4375 0.    ]\n",
      " [0.5625 0.5    0.    ]\n",
      " [0.625  0.5625 0.    ]\n",
      " [0.6875 0.625  0.    ]\n",
      " [0.75   0.6875 0.    ]\n",
      " [0.8125 0.75   0.    ]\n",
      " [0.875  0.8125 0.    ]\n",
      " [0.9375 0.875  0.    ]\n",
      " [0.0625 0.     0.    ]\n",
      " [1.     0.9375 0.    ]\n",
      " [0.0625 0.0625 0.    ]\n",
      " [0.125  0.125  0.    ]\n",
      " [0.1875 0.1875 0.    ]\n",
      " [0.25   0.25   0.    ]\n",
      " [0.3125 0.3125 0.    ]\n",
      " [0.375  0.375  0.    ]\n",
      " [0.4375 0.4375 0.    ]\n",
      " [0.5    0.5    0.    ]\n",
      " [0.5625 0.5625 0.    ]\n",
      " [0.625  0.625  0.    ]\n",
      " [0.6875 0.6875 0.    ]\n",
      " [0.75   0.75   0.    ]\n",
      " [0.8125 0.8125 0.    ]\n",
      " [0.875  0.875  0.    ]\n",
      " [0.9375 0.9375 0.    ]\n",
      " [0.     0.     0.    ]\n",
      " [1.     1.     0.    ]\n",
      " [0.     0.0625 0.    ]\n",
      " [0.0625 0.125  0.    ]\n",
      " [0.125  0.1875 0.    ]\n",
      " [0.1875 0.25   0.    ]\n",
      " [0.25   0.3125 0.    ]\n",
      " [0.3125 0.375  0.    ]\n",
      " [0.375  0.4375 0.    ]\n",
      " [0.4375 0.5    0.    ]\n",
      " [0.5    0.5625 0.    ]\n",
      " [0.5625 0.625  0.    ]\n",
      " [0.625  0.6875 0.    ]\n",
      " [0.6875 0.75   0.    ]\n",
      " [0.75   0.8125 0.    ]\n",
      " [0.8125 0.875  0.    ]\n",
      " [0.875  0.9375 0.    ]\n",
      " [0.9375 1.     0.    ]\n",
      " [0.     0.125  0.    ]\n",
      " [0.0625 0.1875 0.    ]\n",
      " [0.125  0.25   0.    ]\n",
      " [0.1875 0.3125 0.    ]\n",
      " [0.25   0.375  0.    ]\n",
      " [0.3125 0.4375 0.    ]\n",
      " [0.375  0.5    0.    ]\n",
      " [0.4375 0.5625 0.    ]\n",
      " [0.5    0.625  0.    ]\n",
      " [0.5625 0.6875 0.    ]\n",
      " [0.625  0.75   0.    ]\n",
      " [0.6875 0.8125 0.    ]\n",
      " [0.75   0.875  0.    ]\n",
      " [0.8125 0.9375 0.    ]\n",
      " [0.875  1.     0.    ]\n",
      " [0.     0.1875 0.    ]\n",
      " [0.0625 0.25   0.    ]\n",
      " [0.125  0.3125 0.    ]\n",
      " [0.1875 0.375  0.    ]\n",
      " [0.25   0.4375 0.    ]\n",
      " [0.3125 0.5    0.    ]\n",
      " [0.375  0.5625 0.    ]\n",
      " [0.4375 0.625  0.    ]\n",
      " [0.5    0.6875 0.    ]\n",
      " [0.5625 0.75   0.    ]\n",
      " [0.625  0.8125 0.    ]\n",
      " [0.6875 0.875  0.    ]\n",
      " [0.75   0.9375 0.    ]\n",
      " [0.8125 1.     0.    ]\n",
      " [0.     0.25   0.    ]\n",
      " [0.0625 0.3125 0.    ]\n",
      " [0.125  0.375  0.    ]\n",
      " [0.1875 0.4375 0.    ]\n",
      " [0.25   0.5    0.    ]\n",
      " [0.3125 0.5625 0.    ]\n",
      " [0.375  0.625  0.    ]\n",
      " [0.4375 0.6875 0.    ]\n",
      " [0.5    0.75   0.    ]\n",
      " [0.5625 0.8125 0.    ]\n",
      " [0.625  0.875  0.    ]\n",
      " [0.6875 0.9375 0.    ]\n",
      " [0.75   1.     0.    ]\n",
      " [0.     0.3125 0.    ]\n",
      " [0.0625 0.375  0.    ]\n",
      " [0.125  0.4375 0.    ]\n",
      " [0.1875 0.5    0.    ]\n",
      " [0.25   0.5625 0.    ]\n",
      " [0.3125 0.625  0.    ]\n",
      " [0.375  0.6875 0.    ]\n",
      " [0.4375 0.75   0.    ]\n",
      " [0.5    0.8125 0.    ]\n",
      " [0.5625 0.875  0.    ]\n",
      " [0.625  0.9375 0.    ]\n",
      " [0.6875 1.     0.    ]\n",
      " [0.     0.375  0.    ]\n",
      " [0.0625 0.4375 0.    ]\n",
      " [0.125  0.5    0.    ]\n",
      " [0.1875 0.5625 0.    ]\n",
      " [0.25   0.625  0.    ]\n",
      " [0.3125 0.6875 0.    ]\n",
      " [0.375  0.75   0.    ]\n",
      " [0.4375 0.8125 0.    ]\n",
      " [0.5    0.875  0.    ]\n",
      " [0.5625 0.9375 0.    ]\n",
      " [0.625  1.     0.    ]\n",
      " [0.     0.4375 0.    ]\n",
      " [0.0625 0.5    0.    ]\n",
      " [0.125  0.5625 0.    ]\n",
      " [0.1875 0.625  0.    ]\n",
      " [0.25   0.6875 0.    ]\n",
      " [0.3125 0.75   0.    ]\n",
      " [0.375  0.8125 0.    ]\n",
      " [0.4375 0.875  0.    ]\n",
      " [0.5    0.9375 0.    ]\n",
      " [0.5625 1.     0.    ]\n",
      " [0.     0.5    0.    ]\n",
      " [0.0625 0.5625 0.    ]\n",
      " [0.125  0.625  0.    ]\n",
      " [0.1875 0.6875 0.    ]\n",
      " [0.25   0.75   0.    ]\n",
      " [0.3125 0.8125 0.    ]\n",
      " [0.375  0.875  0.    ]\n",
      " [0.4375 0.9375 0.    ]\n",
      " [0.5    1.     0.    ]\n",
      " [0.     0.5625 0.    ]\n",
      " [0.0625 0.625  0.    ]\n",
      " [0.125  0.6875 0.    ]\n",
      " [0.1875 0.75   0.    ]\n",
      " [0.25   0.8125 0.    ]\n",
      " [0.3125 0.875  0.    ]\n",
      " [0.375  0.9375 0.    ]\n",
      " [0.4375 1.     0.    ]\n",
      " [0.     0.625  0.    ]\n",
      " [0.0625 0.6875 0.    ]\n",
      " [0.125  0.75   0.    ]\n",
      " [0.1875 0.8125 0.    ]\n",
      " [0.25   0.875  0.    ]\n",
      " [0.3125 0.9375 0.    ]\n",
      " [0.375  1.     0.    ]\n",
      " [0.     0.6875 0.    ]\n",
      " [0.0625 0.75   0.    ]\n",
      " [0.125  0.8125 0.    ]\n",
      " [0.1875 0.875  0.    ]\n",
      " [0.25   0.9375 0.    ]\n",
      " [0.3125 1.     0.    ]\n",
      " [0.     0.75   0.    ]\n",
      " [0.0625 0.8125 0.    ]\n",
      " [0.125  0.875  0.    ]\n",
      " [0.1875 0.9375 0.    ]\n",
      " [0.25   1.     0.    ]\n",
      " [0.     0.8125 0.    ]\n",
      " [0.0625 0.875  0.    ]\n",
      " [0.125  0.9375 0.    ]\n",
      " [0.1875 1.     0.    ]\n",
      " [0.     0.875  0.    ]\n",
      " [0.0625 0.9375 0.    ]\n",
      " [0.125  1.     0.    ]\n",
      " [0.     0.9375 0.    ]\n",
      " [0.0625 1.     0.    ]\n",
      " [0.     1.     0.    ]] 2 2\n"
     ]
    }
   ],
   "source": [
    "# mesh\n",
    "\n",
    "domain= mesh.create_unit_square(MPI.COMM_WORLD, nx, ny, mesh.CellType.triangle)\n",
    "\n",
    "# geometrical and topological dimension\n",
    "gdim, tdim = domain.geometry.dim, domain.topology.dim\n",
    "x = domain.geometry.x[:]\n",
    "print(x,gdim,tdim)"
   ]
  },
  {
   "cell_type": "code",
   "execution_count": 4,
   "metadata": {},
   "outputs": [],
   "source": [
    "# Defining scalar, vector and tensor elements\n",
    "\n",
    "scalar_element = basix.ufl.element(\"P\", domain.basix_cell(), 1)\n",
    "vector_element = basix.ufl.element(\"P\", domain.basix_cell(), 2, shape=(gdim,))\n",
    "tensor_element = basix.ufl.element(\"P\", domain.basix_cell(),2, shape=(gdim,gdim))"
   ]
  },
  {
   "cell_type": "code",
   "execution_count": 5,
   "metadata": {},
   "outputs": [],
   "source": [
    "SFS = dfx.fem.functionspace(domain,scalar_element)\n",
    "VFS = dfx.fem.functionspace(domain,vector_element)\n",
    "TFS = dfx.fem.functionspace(domain,tensor_element)"
   ]
  },
  {
   "cell_type": "code",
   "execution_count": 6,
   "metadata": {},
   "outputs": [],
   "source": [
    "V = dfx.fem.Function(VFS)\n",
    "V_old = dfx.fem.Function(VFS)\n",
    "v = ufl.TestFunction(VFS)"
   ]
  },
  {
   "cell_type": "markdown",
   "metadata": {},
   "source": [
    "## Exact solution\n",
    "\n",
    "The exact solution is given by,\n",
    "$$\n",
    "\\bar{V} = \\sum_{n_x,n_y} \\bar{V}_{0 (n_x,n_y)} cos(\\pi n_x x/L)cos(\\pi n_y y/L) e^{-\\frac{D \\pi^2 (n_{x}^{2}+n_{y}^{2})t}{L^2}}\n",
    "$$"
   ]
  },
  {
   "cell_type": "code",
   "execution_count": 7,
   "metadata": {},
   "outputs": [],
   "source": [
    "def ex1(x,tt,dt=0.01):\n",
    "    v_x = vx*np.cos(np.pi*n_x*x[0])*np.cos(np.pi*n_y*x[1])*np.exp(-D*(np.pi**2) *(n_x**2+n_y**2)*tt*dt)\n",
    "    v_y = vy*np.cos(np.pi*n_x*x[0])*np.cos(np.pi*n_y*x[1])*np.exp(-D*(np.pi**2) *(n_x**2+n_y**2)*tt*dt)\n",
    "    return np.array([v_x,v_y])"
   ]
  },
  {
   "cell_type": "code",
   "execution_count": 8,
   "metadata": {},
   "outputs": [
    {
     "name": "stdout",
     "output_type": "stream",
     "text": [
      "[ 9.37500000e-01 -1.34639254e-18  0.00000000e+00]\n"
     ]
    }
   ],
   "source": [
    "# initial velocity\n",
    "u_initial = dfx.fem.Function(VFS)\n",
    "dof_coords = VFS.tabulate_dof_coordinates() # Note: In parallel, this returns the local coordinates.\n",
    "n_v = dof_coords.shape[0]\n",
    "print(dof_coords[0])\n",
    "values = np.empty(u_initial.x.array.shape, dtype=np.float64)\n",
    "\n",
    "u_initial.interpolate(lambda x:ex1(x,tt=0))\n",
    "V_old.interpolate(lambda x:ex1(x,tt=0))"
   ]
  },
  {
   "cell_type": "markdown",
   "metadata": {},
   "source": [
    "## Ploting Initial field"
   ]
  },
  {
   "cell_type": "code",
   "execution_count": 9,
   "metadata": {},
   "outputs": [
    {
     "name": "stdout",
     "output_type": "stream",
     "text": [
      "UnstructuredGrid (0x75d20d2bc7c0)\n",
      "  N Cells:    512\n",
      "  N Points:   1089\n",
      "  X Bounds:   -1.346e-18, 1.000e+00\n",
      "  Y Bounds:   -1.346e-18, 1.000e+00\n",
      "  Z Bounds:   0.000e+00, 0.000e+00\n",
      "  N Arrays:   0\n",
      "UnstructuredGrid (0x75d20d2bc880)\n",
      "  N Cells:    512\n",
      "  N Points:   289\n",
      "  X Bounds:   -1.346e-18, 1.000e+00\n",
      "  Y Bounds:   -1.346e-18, 1.000e+00\n",
      "  Z Bounds:   0.000e+00, 0.000e+00\n",
      "  N Arrays:   0\n"
     ]
    },
    {
     "data": {
      "application/vnd.jupyter.widget-view+json": {
       "model_id": "d60abe69f6504f3aaa301fe111aa513d",
       "version_major": 2,
       "version_minor": 0
      },
      "text/plain": [
       "Widget(value='<iframe src=\"http://localhost:42519/index.html?ui=P_0x75d20d9a43b0_2&reconnect=auto\" class=\"pyvi…"
      ]
     },
     "metadata": {},
     "output_type": "display_data"
    }
   ],
   "source": [
    "\n",
    "u_vals = u_initial.x.array\n",
    "ar1 =np.zeros(len(u_vals))\n",
    "ar2 =np.zeros(len(u_vals))\n",
    "for i in range(0,int(len(u_vals)/2)-1):\n",
    "    ar1[i] = u_vals[2*i]\n",
    "    ar2[i] = u_vals[2*i+1]\n",
    "u_vals_reshaped = np.column_stack((\n",
    "    ar1[0:n_v],\n",
    "    ar2[0:n_v]\n",
    "    #u_vals[2*n_v:3*n_v]\n",
    "))\n",
    "\n",
    "points = domain.geometry.x  # N x gdim array - n points in 3 d space\n",
    "#Identify the correct VTK cell type (e.g., VTK_TRIANGLE = 5, VTK_TETRA = 10, etc.) and construct a PyVista\n",
    "conn = domain.topology.connectivity(tdim, 0).array\n",
    "#print(conn)\n",
    "num_cells = len(conn) // 4  # for number of triangles\n",
    "cell_array = []\n",
    "# Suppose tdim=2 and you have triangles\n",
    "# Build the \"cells\" array: [3, i0, i1, i2, 3, j0, j1, j2, ...]\n",
    "for c in range(num_cells):\n",
    "    cell_array.append(3)\n",
    "    cell_array.extend(conn[3*c : 3*c + 3])\n",
    "#For VTK/PyVista unstructured grids, each cell’s connectivity must start with the number of points in that cell, followed by the actual indices. \n",
    "# For triangles, there are 3 points per cell, so we append the number 3 each time.\n",
    "cell_array = np.array(cell_array, dtype=np.int32)\n",
    "cell_types = np.full(num_cells, 5, dtype=np.uint8)   \n",
    "# 5 is VTK_TRIANGLE\n",
    "# points is domain.geometry.x\n",
    "\n",
    "grid = pv.UnstructuredGrid(cell_array, cell_types, points)\n",
    "plotter = pv.Plotter()\n",
    "topology, cell_types, positions = dfx.plot.vtk_mesh(VFS)\n",
    "vgrid = pv.UnstructuredGrid(topology, cell_types, positions)\n",
    "print(vgrid)\n",
    "topology, cell_types, positions = dfx.plot.vtk_mesh(SFS)\n",
    "sgrid = pv.UnstructuredGrid(topology, cell_types, positions)\n",
    "print(sgrid)\n",
    "\n",
    "\n",
    "vector_scale, vector_color = 0.1, 'black'\n",
    "\n",
    "pl = pv.Plotter()\n",
    "\n",
    "# plot vectors\n",
    "\n",
    "# The 'orient' parameter tells PyVista which array holds the vector directions.\n",
    "zeros = np.zeros(n_v)\n",
    "u_vals_3d = np.column_stack((u_vals_reshaped, zeros))\n",
    "vgrid.point_data['gradu'] = u_vals_3d\n",
    "arrows = vgrid.glyph(orient=\"gradu\", scale=\"gradu\", factor=0.1)\n",
    "\n",
    "# --- Plotting with PyVista ---\n",
    "\n",
    "# Create a plotter.\n",
    "plotter = pv.Plotter()\n",
    "\n",
    "# Add the sphere surface as an opaque object.\n",
    "plotter.add_mesh(vgrid, color='lightgray', opacity=1, show_edges=False)\n",
    "\n",
    "# Overlay the glyphs (arrows) on the sphere.\n",
    "plotter.add_mesh(arrows, color='black', label='initial velocity')\n",
    "\n",
    "plotter.add_legend()\n",
    "plotter.show()"
   ]
  },
  {
   "cell_type": "markdown",
   "metadata": {},
   "source": [
    "We now need to write down the weak form of,\n",
    "$$\n",
    "\\partial_t V_a  = D \\nabla^2 V_a\n",
    "$$\n",
    "So we have\n",
    "$$\n",
    "f = \\frac{1}{dt} <V-V_{old},v> + D<\\nabla V, \\nabla v>\n",
    "$$"
   ]
  },
  {
   "cell_type": "code",
   "execution_count": 10,
   "metadata": {},
   "outputs": [],
   "source": [
    "form = ufl.inner((1/dt)*(V-V_old),v)*ufl.dx + D*ufl.inner(ufl.grad(V),ufl.grad(v))*ufl.dx\n",
    "problem = NonlinearProblem(form, V, bcs=[])\n",
    "solver  = NewtonSolver(MPI.COMM_WORLD, problem)"
   ]
  },
  {
   "cell_type": "code",
   "execution_count": 11,
   "metadata": {},
   "outputs": [],
   "source": [
    "\n",
    "V_ex = dfx.fem.Function(VFS)\n",
    "V_ex.interpolate(lambda x: ex1(x,tt=0))     \n"
   ]
  },
  {
   "cell_type": "code",
   "execution_count": 12,
   "metadata": {},
   "outputs": [],
   "source": [
    "V_array =np.zeros((nt, len(V_old.x.array)))\n",
    "V_exact = np.zeros((nt, len(V_old.x.array)))\n",
    "V_array[0] = V_old.x.array\n",
    "V_exact[0] = V_ex.x.array \n",
    "\n",
    "err_array = np.zeros( nt)\n",
    "L2_error = dfx.fem.form(ufl.inner( V_old - V_ex, V_old - V_ex) * ufl.dx)\n",
    "error_local = dfx.fem.assemble_scalar(L2_error)\n",
    "error_L2 = np.sqrt(domain.comm.allreduce(error_local, op=MPI.SUM))\n",
    "err_array[0] = error_L2 \n",
    "\n",
    "for tt in range(1,nt,1):\n",
    "    solver.solve(V)\n",
    "    V_ex.interpolate(lambda x: ex1(x,tt))\n",
    "    V_exact[tt] = V_ex.x.array\n",
    "    V_array[tt] = V.x.array\n",
    "    #V_old.x.array[:] = V_ex.x.array\n",
    "    V_old.x.array[:] = V.x.array\n",
    "    L2_error = dfx.fem.form(ufl.inner( V - V_ex,  V - V_ex) * ufl.dx)\n",
    "    error_local = dfx.fem.assemble_scalar(L2_error)\n",
    "    error_L2 = np.sqrt(domain.comm.allreduce(error_local, op=MPI.SUM))\n",
    "    err_array[tt]=error_L2\n",
    "    "
   ]
  },
  {
   "cell_type": "markdown",
   "metadata": {},
   "source": [
    "## Error Plot"
   ]
  },
  {
   "cell_type": "code",
   "execution_count": 13,
   "metadata": {},
   "outputs": [
    {
     "data": {
      "text/plain": [
       "Text(0.5, 0, 'time')"
      ]
     },
     "execution_count": 13,
     "metadata": {},
     "output_type": "execute_result"
    },
    {
     "data": {
      "image/png": "[encoded data removed]",
      "text/plain": [
       "<Figure size 640x480 with 1 Axes>"
      ]
     },
     "metadata": {},
     "output_type": "display_data"
    }
   ],
   "source": [
    "import matplotlib.pyplot as plt\n",
    "plt.plot(times, err_array)\n",
    "plt.legend()\n",
    "plt.title(\"Error vs time \")\n",
    "plt.ylabel(\"Error\")\n",
    "plt.xlabel(\"time\")"
   ]
  },
  {
   "cell_type": "markdown",
   "metadata": {},
   "source": [
    "## Plotting Numerical Solution"
   ]
  },
  {
   "cell_type": "code",
   "execution_count": 14,
   "metadata": {},
   "outputs": [
    {
     "data": {
      "application/vnd.jupyter.widget-view+json": {
       "model_id": "51bab17119204a26b0645d0fea439044",
       "version_major": 2,
       "version_minor": 0
      },
      "text/plain": [
       "Widget(value='<iframe src=\"http://localhost:42519/index.html?ui=P_0x75d20b7dc620_3&reconnect=auto\" class=\"pyvi…"
      ]
     },
     "metadata": {},
     "output_type": "display_data"
    }
   ],
   "source": [
    "topology, cell_types, positions = dfx.plot.vtk_mesh(VFS)\n",
    "vgrid = pv.UnstructuredGrid(topology, cell_types, positions)\n",
    "\n",
    "\n",
    "cmap, n_colors = 'coolwarm', 11\n",
    "vector_scale, vector_color = 0.1, 'black'\n",
    "\n",
    "\n",
    "pl = pv.Plotter()\n",
    "\n",
    "#plot scalars\n",
    "scalar_bar_args={'title':r'u', 'n_labels':3,\n",
    "                'fmt':'%3.1f', 'vertical':True, \n",
    "                'height':0.5, 'width':0.05}\n",
    "\n",
    "# plot vectors\n",
    "u_vals = V_array[0]\n",
    "ar1 =np.zeros(len(u_vals))\n",
    "ar2 =np.zeros(len(u_vals))\n",
    "for i in range(0,int(len(u_vals)/2)-1):\n",
    "    ar1[i] = u_vals[2*i]\n",
    "    ar2[i] = u_vals[2*i+1]\n",
    "u_vals_reshaped = np.column_stack((\n",
    "    ar1[0:n_v],\n",
    "    ar2[0:n_v]\n",
    "    #u_vals[2*n_v:3*n_v]\n",
    "))\n",
    "zeros = np.zeros(n_v)\n",
    "u_vals_3d = np.column_stack((u_vals_reshaped, zeros))\n",
    "vgrid.point_data['gradu'] = u_vals_3d\n",
    "arrows = vgrid.glyph(orient='gradu', scale=True, factor=vector_scale)\n",
    "vmesh = pl.add_mesh(arrows, color=vector_color, name='gradu')\n",
    "vgrid.set_active_vectors('gradu')\n",
    "arrows = vgrid.glyph(orient='gradu', scale=True, factor=vector_scale)\n",
    "vmesh = pl.add_mesh(arrows, color=vector_color, name='gradu')\n",
    "def update(idx):\n",
    "    global vmesh\n",
    "    pl.remove_actor(vmesh)\n",
    "    \n",
    "    u_vals = V_array[idx]\n",
    "    ar1 =np.zeros(len(u_vals))\n",
    "    ar2 =np.zeros(len(u_vals))\n",
    "    for i in range(0,int(len(u_vals)/2)-1):\n",
    "        ar1[i] = u_vals[2*i]\n",
    "        ar2[i] = u_vals[2*i+1]\n",
    "    u_vals_reshaped = np.column_stack((\n",
    "        ar1[0:n_v],\n",
    "        ar2[0:n_v]\n",
    "        #u_vals[2*n_v:3*n_v]\n",
    "    ))\n",
    "    zeros = np.zeros(n_v)\n",
    "    u_vals_3d = np.column_stack((u_vals_reshaped, zeros))\n",
    "    vgrid.point_data['gradu'] = u_vals_3d\n",
    "    arrows = vgrid.glyph(orient='gradu', scale=True, factor=vector_scale)\n",
    "    vmesh = pl.add_mesh(arrows, color=vector_color, name='gradu')\n",
    "    vgrid.set_active_vectors('gradu')\n",
    "    arrows = vgrid.glyph(orient='gradu', scale=True, factor=vector_scale)\n",
    "    vmesh = pl.add_mesh(arrows, color=vector_color, name='gradu')\n",
    "    \n",
    "    \n",
    "\n",
    "\n",
    "def slider_update(value):\n",
    "    idx = (abs(times-value)).argmin()\n",
    "    update(idx)\n",
    "    return\n",
    "\n",
    "slider = pl.add_slider_widget(slider_update, \n",
    "                                rng=[times.min(), times.max()], value=times.min(), \n",
    "                                title=r'αt', style='modern',\n",
    "                                interaction_event='always',\n",
    "                                pointa=(0.35, 0.1), pointb=(0.75, 0.1), \n",
    "                                slider_width=0.03, tube_width=0.03,\n",
    "                                fmt='%3.1f')\n",
    "\n",
    "pl.show()"
   ]
  },
  {
   "cell_type": "markdown",
   "metadata": {},
   "source": [
    "## Plotting Exact solution"
   ]
  },
  {
   "cell_type": "code",
   "execution_count": 15,
   "metadata": {},
   "outputs": [
    {
     "data": {
      "application/vnd.jupyter.widget-view+json": {
       "model_id": "636aa95229ee4d5b97286c1a8d2db205",
       "version_major": 2,
       "version_minor": 0
      },
      "text/plain": [
       "Widget(value='<iframe src=\"http://localhost:42519/index.html?ui=P_0x75d20b79c1d0_4&reconnect=auto\" class=\"pyvi…"
      ]
     },
     "metadata": {},
     "output_type": "display_data"
    }
   ],
   "source": [
    "topology, cell_types, positions = dfx.plot.vtk_mesh(VFS)\n",
    "vgrid = pv.UnstructuredGrid(topology, cell_types, positions)\n",
    "\n",
    "\n",
    "cmap, n_colors = 'coolwarm', 11\n",
    "vector_scale, vector_color = 0.1, 'black'\n",
    "\n",
    "\n",
    "pl = pv.Plotter()\n",
    "\n",
    "#plot scalars\n",
    "scalar_bar_args={'title':r'u', 'n_labels':3,\n",
    "                'fmt':'%3.1f', 'vertical':True, \n",
    "                'height':0.5, 'width':0.05}\n",
    "\n",
    "# plot vectors\n",
    "u_vals = V_array[0]\n",
    "ar1 =np.zeros(len(u_vals))\n",
    "ar2 =np.zeros(len(u_vals))\n",
    "for i in range(0,int(len(u_vals)/2)-1):\n",
    "    ar1[i] = u_vals[2*i]\n",
    "    ar2[i] = u_vals[2*i+1]\n",
    "u_vals_reshaped = np.column_stack((\n",
    "    ar1[0:n_v],\n",
    "    ar2[0:n_v]\n",
    "    #u_vals[2*n_v:3*n_v]\n",
    "))\n",
    "zeros = np.zeros(n_v)\n",
    "u_vals_3d = np.column_stack((u_vals_reshaped, zeros))\n",
    "vgrid.point_data['gradu'] = u_vals_3d\n",
    "arrows = vgrid.glyph(orient='gradu', scale=True, factor=vector_scale)\n",
    "vmesh = pl.add_mesh(arrows, color=vector_color, name='gradu')\n",
    "vgrid.set_active_vectors('gradu')\n",
    "arrows = vgrid.glyph(orient='gradu', scale=True, factor=vector_scale)\n",
    "vmesh = pl.add_mesh(arrows, color=vector_color, name='gradu')\n",
    "def update(idx):\n",
    "    global vmesh\n",
    "    pl.remove_actor(vmesh)\n",
    "    \n",
    "    u_vals = V_exact[idx]\n",
    "    ar1 =np.zeros(len(u_vals))\n",
    "    ar2 =np.zeros(len(u_vals))\n",
    "    for i in range(0,int(len(u_vals)/2)-1):\n",
    "        ar1[i] = u_vals[2*i]\n",
    "        ar2[i] = u_vals[2*i+1]\n",
    "    u_vals_reshaped = np.column_stack((\n",
    "        ar1[0:n_v],\n",
    "        ar2[0:n_v]\n",
    "        #u_vals[2*n_v:3*n_v]\n",
    "    ))\n",
    "    zeros = np.zeros(n_v)\n",
    "    u_vals_3d = np.column_stack((u_vals_reshaped, zeros))\n",
    "    vgrid.point_data['gradu'] = u_vals_3d\n",
    "    arrows = vgrid.glyph(orient='gradu', scale=True, factor=vector_scale)\n",
    "    vmesh = pl.add_mesh(arrows, color=vector_color, name='gradu')\n",
    "    vgrid.set_active_vectors('gradu')\n",
    "    arrows = vgrid.glyph(orient='gradu', scale=True, factor=vector_scale)\n",
    "    vmesh = pl.add_mesh(arrows, color=vector_color, name='gradu')\n",
    "    \n",
    "    \n",
    "\n",
    "\n",
    "def slider_update(value):\n",
    "    idx = (abs(times-value)).argmin()\n",
    "    update(idx)\n",
    "    return\n",
    "\n",
    "slider = pl.add_slider_widget(slider_update, \n",
    "                                rng=[times.min(), times.max()], value=times.min(), \n",
    "                                title=r'αt', style='modern',\n",
    "                                interaction_event='always',\n",
    "                                pointa=(0.35, 0.1), pointb=(0.75, 0.1), \n",
    "                                slider_width=0.03, tube_width=0.03,\n",
    "                                fmt='%3.1f')\n",
    "\n",
    "pl.show()"
   ]
  },
  {
   "cell_type": "markdown",
   "metadata": {},
   "source": [
    "## dt error calculation\n"
   ]
  },
  {
   "cell_type": "code",
   "execution_count": 16,
   "metadata": {},
   "outputs": [],
   "source": [
    "def ex1(x,tt):\n",
    "    v_x = vx*np.cos(np.pi*n_x*x[0])*np.cos(np.pi*n_y*x[1])*np.exp(-D*(np.pi**2) *(n_x**2+n_y**2)*tt)\n",
    "    v_y = vy*np.cos(np.pi*n_x*x[0])*np.cos(np.pi*n_y*x[1])*np.exp(-D*(np.pi**2) *(n_x**2+n_y**2)*tt)\n",
    "    return np.array([v_x,v_y])"
   ]
  },
  {
   "cell_type": "code",
   "execution_count": 17,
   "metadata": {},
   "outputs": [],
   "source": [
    "dt = [0.01,0.025,0.005]\n",
    "nt = 1000\n",
    "tmax = dt*nt\n",
    "err_array = np.zeros((len(dt), nt))\n",
    "uarray = np.zeros((len(dt), nt, len(V_old.x.array)))\n",
    "for indx, dtt in enumerate(dt):\n",
    "    V_old.x.array[:] = np.zeros(len(V_old.x.array))\n",
    "    V.x.array[:] = np.zeros(len(V_old.x.array))\n",
    "    \n",
    "    times = np.linspace(0, tmax[indx], nt)\n",
    "    \n",
    "    uarray[indx, 0] =  V_old.x.array\n",
    "    domain= mesh.create_unit_square(MPI.COMM_WORLD, nx, ny, mesh.CellType.triangle)\n",
    "    V = dfx.fem.Function(VFS)\n",
    "    V_old = dfx.fem.Function(VFS)\n",
    "    v = ufl.TestFunction(VFS)\n",
    " \n",
    "    V_old.interpolate(lambda x: ex1(x,tt=0))  \n",
    "    form = ufl.inner((1/dtt)*(V-V_old),v)*ufl.dx + D*ufl.inner(ufl.grad(V),ufl.grad(v))*ufl.dx\n",
    "    problem = NonlinearProblem(form, V, bcs=[])\n",
    "    solver  = NewtonSolver(MPI.COMM_WORLD, problem)\n",
    "    V_ex = dfx.fem.Function(VFS)\n",
    "    V_ex.interpolate(lambda x: ex1(x,tt=0)) \n",
    "    L2_error = dfx.fem.form(ufl.inner( V_old - V_ex, V_old - V_ex) * ufl.dx)\n",
    "    error_local = dfx.fem.assemble_scalar(L2_error)\n",
    "    error_L2 = np.sqrt(domain.comm.allreduce(error_local, op=MPI.SUM))\n",
    "    err_array[indx, 0] = error_L2\n",
    "    \n",
    "    for tt in range(1, nt):\n",
    "        solver.solve(V)\n",
    "        V_ex.interpolate(lambda x: ex1(x,tt*dtt))\n",
    "        V_exact[tt] = V_ex.x.array\n",
    "        V_array[tt] = V.x.array\n",
    "        uarray[indx, tt] = V_old.x.array\n",
    "        #V_old.x.array[:] = V_ex.x.array\n",
    "        V_old.x.array[:] = V.x.array\n",
    "        L2_error = dfx.fem.form(ufl.inner( V - V_ex,  V - V_ex) * ufl.dx)\n",
    "        error_local = dfx.fem.assemble_scalar(L2_error)\n",
    "        error_L2 = np.sqrt(domain.comm.allreduce(error_local, op=MPI.SUM))\n",
    "        err_array[indx, tt] = error_L2\n",
    "    \n",
    "\n",
    "    "
   ]
  },
  {
   "cell_type": "code",
   "execution_count": 18,
   "metadata": {},
   "outputs": [
    {
     "data": {
      "text/plain": [
       "Text(0.5, 0, 'time')"
      ]
     },
     "execution_count": 18,
     "metadata": {},
     "output_type": "execute_result"
    },
    {
     "data": {
      "image/png": "[encoded data removed]",
      "text/plain": [
       "<Figure size 640x480 with 1 Axes>"
      ]
     },
     "metadata": {},
     "output_type": "display_data"
    }
   ],
   "source": [
    "for n in range(len(dt)):\n",
    "    plt.plot(times, err_array[n], label= dt[n])\n",
    "\n",
    "plt.legend()\n",
    "plt.title(\"Error vs time for different dt\")\n",
    "plt.ylabel(\"Error\")\n",
    "plt.xlabel(\"time\")"
   ]
  },
  {
   "cell_type": "code",
   "execution_count": 19,
   "metadata": {},
   "outputs": [
    {
     "data": {
      "text/plain": [
       "Text(0.5, 1.0, 'Maximum Error vs dt')"
      ]
     },
     "execution_count": 19,
     "metadata": {},
     "output_type": "execute_result"
    },
    {
     "data": {
      "image/png": "[encoded data removed]",
      "text/plain": [
       "<Figure size 640x480 with 1 Axes>"
      ]
     },
     "metadata": {},
     "output_type": "display_data"
    }
   ],
   "source": [
    "plt.loglog(dt, np.max(err_array, axis = 1), marker=\"o\",base =10)\n",
    "plt.xticks(dt, rotation= 90)\n",
    "plt.ylabel(\"Maximum Error\")\n",
    "plt.xlabel(\"dt\")\n",
    "plt.title(\"Maximum Error vs dt\")"
   ]
  },
  {
   "cell_type": "code",
   "execution_count": 20,
   "metadata": {},
   "outputs": [],
   "source": [
    "nx_ar = [20,30,40,50]\n",
    "dx =[]\n",
    "for i in nx_ar:\n",
    "    dx.append(1/i)\n",
    "dt = 0.005\n",
    "nt = 1000\n",
    "tmax = dt*nt\n",
    "times = np.linspace(0, tmax, nt)\n",
    "\n"
   ]
  },
  {
   "cell_type": "code",
   "execution_count": 21,
   "metadata": {},
   "outputs": [
    {
     "name": "stdout",
     "output_type": "stream",
     "text": [
      "20\n",
      "0\n",
      "30\n",
      "1\n",
      "40\n",
      "2\n",
      "50\n",
      "3\n"
     ]
    }
   ],
   "source": [
    "err_array = np.zeros((len(dx), nt))\n",
    "#uarray = np.zeros((len(dx), nt, len(V_old.x.array)))\n",
    "for indx, nx in enumerate(nx_ar):\n",
    "    print(nx)\n",
    "    domain= mesh.create_unit_square(MPI.COMM_WORLD, nx, nx, mesh.CellType.triangle)\n",
    "    scalar_element = basix.ufl.element(\"P\", domain.basix_cell(), 1)\n",
    "    vector_element = basix.ufl.element(\"P\", domain.basix_cell(), 1, shape=(gdim,))\n",
    "    tensor_element = basix.ufl.element(\"P\", domain.basix_cell(),2, shape=(gdim,gdim))\n",
    "    SFS = dfx.fem.functionspace(domain,scalar_element)\n",
    "    VFS = dfx.fem.functionspace(domain,vector_element)\n",
    "    TFS = dfx.fem.functionspace(domain,tensor_element)\n",
    "    V = dfx.fem.Function(VFS)\n",
    "    V_old = dfx.fem.Function(VFS)\n",
    "    v = ufl.TestFunction(VFS)\n",
    "    \n",
    "    V_old.x.array[:] = np.zeros(len(V_old.x.array))\n",
    "    V.x.array[:] = np.zeros(len(V_old.x.array))\n",
    "    V_old.interpolate(lambda x: ex1(x,tt=0)) \n",
    "    print(indx)    \n",
    "    #uarray[indx, 0] =  V_old.x.array\n",
    "     \n",
    "    form = ufl.inner((1/dt)*(V-V_old),v)*ufl.dx + D*ufl.inner(ufl.grad(V),ufl.grad(v))*ufl.dx\n",
    "    problem = NonlinearProblem(form, V, bcs=[])\n",
    "    solver  = NewtonSolver(MPI.COMM_WORLD, problem)\n",
    "    V_ex = dfx.fem.Function(VFS)\n",
    "    V_ex.interpolate(lambda x: ex1(x,tt=0)) \n",
    "    L2_error = dfx.fem.form(ufl.inner( V_old - V_ex, V_old - V_ex) * ufl.dx)\n",
    "    error_local = dfx.fem.assemble_scalar(L2_error)\n",
    "    error_L2 = np.sqrt(domain.comm.allreduce(error_local, op=MPI.SUM))\n",
    "    err_array[indx, 0] = error_L2\n",
    "    \n",
    "    for tt in range(1, nt):\n",
    "        solver.solve(V)\n",
    "        V_ex.interpolate(lambda x: ex1(x,tt*dt))\n",
    "        #V_exact[tt] = V_ex.x.array\n",
    "        #V_array[tt] = V.x.array\n",
    "        #uarray[indx, tt] = V_old.x.array\n",
    "        #V_old.x.array[:] = V_ex.x.array\n",
    "        V_old.x.array[:] = V.x.array\n",
    "        L2_error = dfx.fem.form(ufl.inner( V - V_ex,  V - V_ex) * ufl.dx)\n",
    "        error_local = dfx.fem.assemble_scalar(L2_error)\n",
    "        error_L2 = np.sqrt(domain.comm.allreduce(error_local, op=MPI.SUM))\n",
    "        err_array[indx, tt] = error_L2\n",
    "    "
   ]
  },
  {
   "cell_type": "code",
   "execution_count": 22,
   "metadata": {},
   "outputs": [
    {
     "data": {
      "text/plain": [
       "Text(0.5, 0, 'time')"
      ]
     },
     "execution_count": 22,
     "metadata": {},
     "output_type": "execute_result"
    },
    {
     "data": {
      "image/png": "[encoded data removed]",
      "text/plain": [
       "<Figure size 640x480 with 1 Axes>"
      ]
     },
     "metadata": {},
     "output_type": "display_data"
    }
   ],
   "source": [
    "for n in range(len(dx)):\n",
    "    plt.plot(times, err_array[n], label= dx[n])\n",
    "\n",
    "plt.legend()\n",
    "plt.title(\"Error vs time for different dx\")\n",
    "plt.ylabel(\"Error\")\n",
    "plt.xlabel(\"time\")"
   ]
  },
  {
   "cell_type": "code",
   "execution_count": 23,
   "metadata": {},
   "outputs": [
    {
     "data": {
      "text/plain": [
       "Text(0.5, 1.0, 'Maximum Error vs dx')"
      ]
     },
     "execution_count": 23,
     "metadata": {},
     "output_type": "execute_result"
    },
    {
     "data": {
      "image/png": "[encoded data removed]",
      "text/plain": [
       "<Figure size 640x480 with 1 Axes>"
      ]
     },
     "metadata": {},
     "output_type": "display_data"
    }
   ],
   "source": [
    "plt.loglog(dx, np.max(err_array, axis = 1), marker=\"o\",base =10)\n",
    "plt.xticks(dx, rotation= 90)\n",
    "plt.ylabel(\"Maximum Error\")\n",
    "plt.xlabel(\"dx\")\n",
    "plt.title(\"Maximum Error vs dx\")"
   ]
  },
  {
   "cell_type": "code",
   "execution_count": null,
   "metadata": {},
   "outputs": [],
   "source": []
  }
 ],
 "metadata": {
  "kernelspec": {
   "display_name": "fenicsx",
   "language": "python",
   "name": "python3"
  },
  "language_info": {
   "codemirror_mode": {
    "name": "ipython",
    "version": 3
   },
   "file_extension": ".py",
   "mimetype": "text/x-python",
   "name": "python",
   "nbconvert_exporter": "python",
   "pygments_lexer": "ipython3",
   "version": "3.12.10"
  }
 },
 "nbformat": 4,
 "nbformat_minor": 2
}
